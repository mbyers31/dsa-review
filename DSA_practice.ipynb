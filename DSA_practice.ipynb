{
  "nbformat": 4,
  "nbformat_minor": 0,
  "metadata": {
    "colab": {
      "name": "DSA_practice.ipynb",
      "provenance": []
    },
    "kernelspec": {
      "name": "python3",
      "display_name": "Python 3"
    }
  },
  "cells": [
    {
      "cell_type": "markdown",
      "metadata": {
        "id": "6CBWlTT2pq_z"
      },
      "source": [
        "#Time to make Python my b**ch"
      ]
    },
    {
      "cell_type": "markdown",
      "metadata": {
        "id": "LitjhfivLVyn"
      },
      "source": [
        "Imports:"
      ]
    },
    {
      "cell_type": "code",
      "metadata": {
        "id": "6WXqXAZrLXM6"
      },
      "source": [
        "import random"
      ],
      "execution_count": 7,
      "outputs": []
    },
    {
      "cell_type": "markdown",
      "metadata": {
        "id": "mqB1hsuupwM_"
      },
      "source": [
        "##Sorting"
      ]
    },
    {
      "cell_type": "code",
      "metadata": {
        "id": "uAVdzAMdqp9Z"
      },
      "source": [
        "small_list = [random.randrange(1, 100, 1) for i in range(20)]"
      ],
      "execution_count": null,
      "outputs": []
    },
    {
      "cell_type": "code",
      "metadata": {
        "id": "KEAU1bOQqrNF"
      },
      "source": [
        "med_list = [random.randrange(1, 100, 1) for i in range(200)]"
      ],
      "execution_count": null,
      "outputs": []
    },
    {
      "cell_type": "code",
      "metadata": {
        "id": "8LMwWq0mqvEp"
      },
      "source": [
        "big_list = [random.randrange(1, 100, 1) for i in range(1000)]"
      ],
      "execution_count": null,
      "outputs": []
    },
    {
      "cell_type": "code",
      "metadata": {
        "id": "i7eJwW-IqyAH"
      },
      "source": [
        "huge_list = [random.randrange(1, 100, 1) for i in range(5000)]"
      ],
      "execution_count": null,
      "outputs": []
    },
    {
      "cell_type": "markdown",
      "metadata": {
        "id": "sbfUjRRzqE5E"
      },
      "source": [
        "###The Basics: bubble sort"
      ]
    },
    {
      "cell_type": "markdown",
      "metadata": {
        "id": "rrzrHuKXswka"
      },
      "source": [
        "Bubble sort has a worst-case complexity of O(n**2) and a best case complexity of O(n) with early stopping. "
      ]
    },
    {
      "cell_type": "code",
      "metadata": {
        "colab": {
          "base_uri": "https://localhost:8080/"
        },
        "id": "VbBM_0LJpnLK",
        "outputId": "d683362b-0e9a-46ca-e991-f63f76ee5814"
      },
      "source": [
        "print('Small list before sort: ', small_list)\n",
        "\n",
        "nothing_changed = True\n",
        "\n",
        "for i in range(len(small_list)):\n",
        "  for j in range(len(small_list)-i-1):\n",
        "    if small_list[j] > small_list[j+1]:\n",
        "      nothing_changed = False\n",
        "      small_list[j], small_list[j+1] = small_list[j+1], small_list[j]\n",
        "  if nothing_changed:\n",
        "    break\n",
        "\n",
        "print('\\nSmall list after sort: ', small_list)"
      ],
      "execution_count": null,
      "outputs": [
        {
          "output_type": "stream",
          "text": [
            "Small list before sort:\n",
            "[58, 93, 65, 89, 71, 63, 87, 51, 95, 47, 46, 31, 23, 32, 26, 60, 80, 31, 33, 6]\n",
            "\n",
            "Small list after sort:\n",
            "[6, 23, 26, 31, 31, 32, 33, 46, 47, 51, 58, 60, 63, 65, 71, 80, 87, 89, 93, 95]\n"
          ],
          "name": "stdout"
        }
      ]
    },
    {
      "cell_type": "markdown",
      "metadata": {
        "id": "v4MIrMNXtCPV"
      },
      "source": [
        "###Merge sort"
      ]
    },
    {
      "cell_type": "markdown",
      "metadata": {
        "id": "USD6xf2FtYNG"
      },
      "source": [
        "Merge sort works by recursively dividing the array in half, and then merges the halves back together. This algorithm has a best AND worst case time complexity of O(nlogn).\n",
        "\n",
        "It is most useful for sorting linked lists since it accesses the elements sequentially and because insertion for a linked list takes O(1)"
      ]
    },
    {
      "cell_type": "code",
      "metadata": {
        "colab": {
          "base_uri": "https://localhost:8080/"
        },
        "id": "3YY_GSMBtEXt",
        "outputId": "3c034890-7660-44f5-8e68-566432e32267"
      },
      "source": [
        "def mergeSort(arr):\n",
        "  if len(arr)>1:\n",
        "    mid = len(arr)//2 #// is floor division\n",
        "    left = arr[:mid]\n",
        "    right = arr[mid:]\n",
        "\n",
        "    mergeSort(left)\n",
        "    mergeSort(right)\n",
        "\n",
        "    i = j = k = 0\n",
        "\n",
        "    #merge\n",
        "    while i < len(left) and j < len(right):\n",
        "      if left[i] < right[j]:\n",
        "        arr[k] = left[i]\n",
        "        i += 1\n",
        "      else:\n",
        "        arr[k] = right[j]\n",
        "        j += 1\n",
        "      k += 1\n",
        "   \n",
        "    #check for leftovers\n",
        "    while i < len(left):\n",
        "      arr[k] = left[i]\n",
        "      i += 1\n",
        "      k += 1\n",
        "    \n",
        "    while j < len(right):\n",
        "      arr[k] = right[j]\n",
        "      j += 1\n",
        "      k += 1\n",
        "\n",
        "\n",
        "print('Small list before sort:', small_list)\n",
        "mergeSort(small_list)\n",
        "print('Small list after sort:', small_list)\n",
        "\n",
        "print('\\nMedium list before sort:', med_list)\n",
        "mergeSort(med_list)\n",
        "print('Medium list after sort:', med_list)"
      ],
      "execution_count": null,
      "outputs": [
        {
          "output_type": "stream",
          "text": [
            "Small list before sort: [83, 40, 42, 67, 32, 4, 48, 22, 57, 81, 94, 26, 82, 6, 78, 4, 14, 98, 21, 55]\n",
            "Small list after sort: [4, 4, 6, 14, 21, 22, 26, 32, 40, 42, 48, 55, 57, 67, 78, 81, 82, 83, 94, 98]\n",
            "\n",
            "Medium list before sort: [73, 18, 34, 80, 1, 88, 52, 72, 27, 2, 93, 54, 80, 74, 36, 87, 29, 91, 98, 40, 85, 75, 22, 40, 29, 74, 32, 53, 28, 96, 23, 6, 10, 42, 68, 74, 59, 1, 97, 45, 31, 79, 19, 28, 65, 46, 83, 4, 17, 41, 42, 83, 44, 79, 39, 63, 60, 16, 52, 41, 15, 41, 92, 86, 86, 97, 99, 75, 92, 1, 89, 42, 28, 42, 67, 5, 48, 35, 61, 81, 75, 56, 33, 7, 99, 42, 87, 85, 95, 33, 89, 58, 56, 3, 3, 76, 55, 30, 39, 46, 26, 91, 79, 87, 81, 64, 98, 32, 91, 54, 24, 16, 52, 37, 25, 77, 34, 1, 22, 60, 15, 70, 80, 43, 34, 64, 76, 98, 59, 59, 13, 27, 89, 52, 87, 22, 55, 79, 34, 78, 92, 32, 63, 20, 93, 84, 40, 62, 87, 70, 26, 34, 43, 19, 64, 58, 57, 46, 98, 53, 57, 51, 72, 31, 14, 79, 3, 92, 52, 24, 48, 80, 51, 6, 56, 27, 23, 58, 97, 91, 49, 64, 73, 29, 88, 59, 97, 54, 83, 68, 31, 20, 27, 12, 2, 22, 88, 20, 31, 1]\n",
            "Small list after sort: [1, 1, 1, 1, 1, 2, 2, 3, 3, 3, 4, 5, 6, 6, 7, 10, 12, 13, 14, 15, 15, 16, 16, 17, 18, 19, 19, 20, 20, 20, 22, 22, 22, 22, 23, 23, 24, 24, 25, 26, 26, 27, 27, 27, 27, 28, 28, 28, 29, 29, 29, 30, 31, 31, 31, 31, 32, 32, 32, 33, 33, 34, 34, 34, 34, 34, 35, 36, 37, 39, 39, 40, 40, 40, 41, 41, 41, 42, 42, 42, 42, 42, 43, 43, 44, 45, 46, 46, 46, 48, 48, 49, 51, 51, 52, 52, 52, 52, 52, 53, 53, 54, 54, 54, 55, 55, 56, 56, 56, 57, 57, 58, 58, 58, 59, 59, 59, 59, 60, 60, 61, 62, 63, 63, 64, 64, 64, 64, 65, 67, 68, 68, 70, 70, 72, 72, 73, 73, 74, 74, 74, 75, 75, 75, 76, 76, 77, 78, 79, 79, 79, 79, 79, 80, 80, 80, 80, 81, 81, 83, 83, 83, 84, 85, 85, 86, 86, 87, 87, 87, 87, 87, 88, 88, 88, 89, 89, 89, 91, 91, 91, 91, 92, 92, 92, 92, 93, 93, 95, 96, 97, 97, 97, 97, 98, 98, 98, 98, 99, 99]\n"
          ],
          "name": "stdout"
        }
      ]
    },
    {
      "cell_type": "markdown",
      "metadata": {
        "id": "wgTqMwftyFnY"
      },
      "source": [
        "###Quick Sort"
      ]
    },
    {
      "cell_type": "markdown",
      "metadata": {
        "id": "qSr2LMQfyLOY"
      },
      "source": [
        "Quick sort is also a divide and conquer algorithm. This one focuses on selecting an element of the array to be the \"pivot.\" In the best case QuickSort achieves a time complexity of O(nlogn) and in the (rare) worst case its complexity is O(n**2). It is unstable, unlike MergeSort.\n",
        "\n",
        "Quicksort is useful when storage is limited. In contrast to MergeSort, QuickSort does not require extra memory. It's known as an \"in-place\" sort. This algorithm takes precedence over MergeSort when used on arrays."
      ]
    },
    {
      "cell_type": "code",
      "metadata": {
        "colab": {
          "base_uri": "https://localhost:8080/"
        },
        "id": "Hc2PWEsxycgi",
        "outputId": "82e56991-d510-4405-9da4-31fdd7959b64"
      },
      "source": [
        "def partition(arr, low, high):\n",
        "  i = low - 1\n",
        "  pivot = arr[high] #in this implementation our pivot is the last element\n",
        "\n",
        "  for j in range(low, high):\n",
        "    if arr[j] < pivot:\n",
        "      i += 1\n",
        "      arr[i], arr[j] = arr[j], arr[i]\n",
        "  \n",
        "  arr[i+1], arr[high] = arr[high], arr[i+1]\n",
        "\n",
        "  return i+1\n",
        "\n",
        "\n",
        "def quickSort(arr, low, high):\n",
        "  if low < high:\n",
        "    partition_idx = partition(arr, low, high)\n",
        "\n",
        "    quickSort(arr, low, partition_idx-1)\n",
        "    quickSort(arr, partition_idx+1, high)\n",
        "\n",
        "\n",
        "print('Small list before sort: ', small_list)\n",
        "quickSort(small_list, 0, len(small_list)-1)\n",
        "print('Small list after sort: ', small_list)\n",
        "\n",
        "print('\\nMedium list before sort: ', med_list)\n",
        "quickSort(med_list, 0, len(med_list)-1)\n",
        "print('Medium list after sort: ', med_list)"
      ],
      "execution_count": null,
      "outputs": [
        {
          "output_type": "stream",
          "text": [
            "Small list before sort:  [46, 58, 81, 93, 94, 91, 29, 23, 24, 42, 94, 23, 75, 59, 87, 67, 90, 88, 76, 9]\n",
            "Small list after sort:  [9, 23, 23, 24, 29, 42, 46, 58, 59, 67, 75, 76, 81, 87, 88, 90, 91, 93, 94, 94]\n",
            "Medium list before sort:  [28, 62, 44, 68, 85, 19, 83, 98, 69, 41, 30, 84, 94, 70, 73, 39, 49, 28, 71, 67, 7, 70, 60, 92, 58, 78, 55, 27, 7, 97, 57, 74, 24, 9, 43, 38, 42, 36, 11, 89, 27, 72, 10, 98, 31, 78, 72, 4, 63, 23, 23, 64, 97, 31, 43, 72, 65, 72, 81, 77, 59, 58, 57, 58, 6, 26, 4, 73, 65, 57, 78, 76, 91, 12, 39, 27, 28, 79, 12, 63, 35, 98, 66, 39, 67, 40, 84, 76, 56, 73, 43, 11, 91, 2, 77, 6, 31, 39, 91, 11, 8, 74, 93, 94, 47, 84, 21, 11, 41, 53, 15, 34, 65, 49, 12, 48, 80, 4, 61, 69, 81, 72, 13, 1, 94, 40, 73, 95, 76, 7, 5, 87, 15, 87, 24, 50, 80, 60, 92, 1, 59, 56, 59, 11, 31, 78, 67, 46, 38, 83, 41, 37, 39, 43, 60, 59, 81, 49, 94, 73, 44, 5, 16, 65, 15, 42, 34, 41, 75, 63, 80, 18, 33, 13, 4, 38, 92, 69, 20, 53, 41, 53, 39, 6, 93, 10, 55, 37, 65, 81, 95, 28, 67, 86, 65, 76, 23, 2, 19, 64]\n",
            "Medium list after sort:  [1, 1, 2, 2, 4, 4, 4, 4, 5, 5, 6, 6, 6, 7, 7, 7, 8, 9, 10, 10, 11, 11, 11, 11, 11, 12, 12, 12, 13, 13, 15, 15, 15, 16, 18, 19, 19, 20, 21, 23, 23, 23, 24, 24, 26, 27, 27, 27, 28, 28, 28, 28, 30, 31, 31, 31, 31, 33, 34, 34, 35, 36, 37, 37, 38, 38, 38, 39, 39, 39, 39, 39, 39, 40, 40, 41, 41, 41, 41, 41, 42, 42, 43, 43, 43, 43, 44, 44, 46, 47, 48, 49, 49, 49, 50, 53, 53, 53, 55, 55, 56, 56, 57, 57, 57, 58, 58, 58, 59, 59, 59, 59, 60, 60, 60, 61, 62, 63, 63, 63, 64, 64, 65, 65, 65, 65, 65, 65, 66, 67, 67, 67, 67, 68, 69, 69, 69, 70, 70, 71, 72, 72, 72, 72, 72, 73, 73, 73, 73, 73, 74, 74, 75, 76, 76, 76, 76, 77, 77, 78, 78, 78, 78, 79, 80, 80, 80, 81, 81, 81, 81, 83, 83, 84, 84, 84, 85, 86, 87, 87, 89, 91, 91, 91, 92, 92, 92, 93, 93, 94, 94, 94, 94, 95, 95, 97, 97, 98, 98, 98]\n"
          ],
          "name": "stdout"
        }
      ]
    },
    {
      "cell_type": "markdown",
      "metadata": {
        "id": "XVALJk2G3W9_"
      },
      "source": [
        "###Radix Sort"
      ]
    },
    {
      "cell_type": "markdown",
      "metadata": {
        "id": "5MkU0f2A4ymH"
      },
      "source": [
        "Radix sort is not a comparison based algorithm, unlike mergeSort and quickSort. Radix works by comparing the digits of each entry in an array from least to most significant. If n is (also) the base of your digits, then Radix takes O(n). If n =/= the base of your digits, then compute time is O(nlogn). Similarly to MergeSort, Radix requires extra memory space. "
      ]
    },
    {
      "cell_type": "code",
      "metadata": {
        "colab": {
          "base_uri": "https://localhost:8080/"
        },
        "id": "iZ9--o7Q5Qxk",
        "outputId": "460f5bd5-25ad-41f9-912c-055e65dbeff1"
      },
      "source": [
        "def countingSort(arr, exp1):\n",
        "  output = [0] * len(arr)\n",
        "  count = [0] * 10\n",
        "\n",
        "  for i in range(0, len(arr)):\n",
        "    idx = arr[i] / exp1\n",
        "    count[int(idx % 10)] += 1\n",
        "\n",
        "  for i in range(1,10):\n",
        "    count[i] += count[i-1]\n",
        "\n",
        "  i = len(arr) - 1\n",
        "\n",
        "  while i >= 0:\n",
        "    idx = arr[i]/exp1\n",
        "    output[count[int(idx%10)]-1] = arr[i]\n",
        "    count[int(idx%10)] -= 1\n",
        "    i -= 1\n",
        "\n",
        "  for j, entry in enumerate(output):\n",
        "    arr[j] = entry\n",
        "\n",
        "\n",
        "def radixSort(arr):\n",
        "  max_num = max(arr)\n",
        "\n",
        "  #perform a counting sort for every digit\n",
        "  exp = 1\n",
        "  while max_num / exp > 0:\n",
        "    countingSort(arr, exp)\n",
        "    exp *= 10\n",
        "\n",
        "\n",
        "print('Small list before sort:', small_list)\n",
        "radixSort(small_list)\n",
        "print('Small list after sort:', small_list)\n",
        "\n",
        "print('\\nMedium list before sort:', med_list)\n",
        "radixSort(med_list)\n",
        "print('Medium list after sort:', med_list)"
      ],
      "execution_count": null,
      "outputs": [
        {
          "output_type": "stream",
          "text": [
            "Small list before sort: [11, 2, 67, 40, 94, 90, 95, 45, 63, 25, 8, 76, 76, 54, 87, 2, 26, 57, 53, 5]\n",
            "Small list after sort: [2, 2, 5, 8, 11, 25, 26, 40, 45, 53, 54, 57, 63, 67, 76, 76, 87, 90, 94, 95]\n",
            "\n",
            "Medium list before sort: [88, 16, 9, 57, 27, 70, 45, 51, 39, 19, 82, 64, 91, 9, 30, 54, 83, 75, 7, 36, 93, 41, 13, 25, 40, 99, 74, 74, 92, 26, 73, 96, 83, 21, 91, 64, 62, 32, 89, 4, 2, 20, 92, 66, 20, 35, 54, 91, 11, 85, 81, 89, 56, 64, 89, 60, 63, 36, 46, 47, 67, 64, 16, 5, 52, 82, 20, 20, 40, 41, 10, 25, 88, 20, 78, 2, 74, 33, 90, 18, 56, 49, 29, 70, 61, 50, 29, 84, 50, 54, 99, 99, 60, 18, 26, 1, 3, 72, 25, 44, 36, 5, 51, 95, 89, 37, 65, 2, 40, 89, 37, 38, 99, 12, 25, 60, 70, 2, 88, 79, 39, 73, 53, 60, 64, 88, 9, 28, 29, 57, 42, 11, 32, 33, 40, 74, 4, 26, 35, 52, 13, 95, 74, 65, 18, 68, 78, 57, 16, 84, 87, 98, 72, 65, 34, 60, 27, 76, 94, 79, 7, 92, 17, 62, 91, 71, 39, 56, 17, 49, 26, 37, 80, 62, 40, 83, 65, 14, 88, 14, 57, 31, 95, 44, 70, 83, 68, 31, 57, 24, 86, 84, 90, 76, 73, 70, 86, 88, 82, 46]\n",
            "Medium list after sort: [1, 2, 2, 2, 2, 3, 4, 4, 5, 5, 7, 7, 9, 9, 9, 10, 11, 11, 12, 13, 13, 14, 14, 16, 16, 16, 17, 17, 18, 18, 18, 19, 20, 20, 20, 20, 20, 21, 24, 25, 25, 25, 25, 26, 26, 26, 26, 27, 27, 28, 29, 29, 29, 30, 31, 31, 32, 32, 33, 33, 34, 35, 35, 36, 36, 36, 37, 37, 37, 38, 39, 39, 39, 40, 40, 40, 40, 40, 41, 41, 42, 44, 44, 45, 46, 46, 47, 49, 49, 50, 50, 51, 51, 52, 52, 53, 54, 54, 54, 56, 56, 56, 57, 57, 57, 57, 57, 60, 60, 60, 60, 60, 61, 62, 62, 62, 63, 64, 64, 64, 64, 64, 65, 65, 65, 65, 66, 67, 68, 68, 70, 70, 70, 70, 70, 71, 72, 72, 73, 73, 73, 74, 74, 74, 74, 74, 75, 76, 76, 78, 78, 79, 79, 80, 81, 82, 82, 82, 83, 83, 83, 83, 84, 84, 84, 85, 86, 86, 87, 88, 88, 88, 88, 88, 88, 89, 89, 89, 89, 89, 90, 90, 91, 91, 91, 91, 92, 92, 92, 93, 94, 95, 95, 95, 96, 98, 99, 99, 99, 99]\n"
          ],
          "name": "stdout"
        }
      ]
    },
    {
      "cell_type": "markdown",
      "metadata": {
        "id": "K7ltQcp-8wMW"
      },
      "source": [
        "###Now let's see how these algs do on large datasets!"
      ]
    },
    {
      "cell_type": "code",
      "metadata": {
        "colab": {
          "base_uri": "https://localhost:8080/"
        },
        "id": "7H1vrg4P-mCl",
        "outputId": "1da5d5ab-9eb6-4ced-a9bd-3cc454a1b09d"
      },
      "source": [
        "#Merge\n",
        "import time\n",
        "big_len = len(big_list)\n",
        "huge_len = len(huge_list)\n",
        "\n",
        "start_time = time.time()\n",
        "mergeSort(big_list)\n",
        "total_time = time.time() - start_time\n",
        "print(f'Merge sort for list with {big_len} elements: {total_time:.3f} seconds')\n",
        "\n",
        "\n",
        "start_time = time.time()\n",
        "mergeSort(huge_list)\n",
        "total_time = time.time() - start_time\n",
        "print(f'Merge sort for list with {huge_len} elements: {total_time:.3f} seconds')"
      ],
      "execution_count": null,
      "outputs": [
        {
          "output_type": "stream",
          "text": [
            "Merge sort for list with 1000 elements: 0.004 seconds\n",
            "Merge sort for list with 5000 elements: 0.026 seconds\n"
          ],
          "name": "stdout"
        }
      ]
    },
    {
      "cell_type": "code",
      "metadata": {
        "colab": {
          "base_uri": "https://localhost:8080/"
        },
        "id": "NAHjIV54_VAV",
        "outputId": "3be3f53c-d665-44be-8fa6-8dcbbca1400c"
      },
      "source": [
        "#Quick\n",
        "big_len = len(big_list)\n",
        "huge_len = len(huge_list)\n",
        "\n",
        "start_time = time.time()\n",
        "quickSort(big_list, 0, big_len-1)\n",
        "total_time = time.time() - start_time\n",
        "print(f'Quick sort for list with {big_len} elements: {total_time:.3f} seconds')\n",
        "\n",
        "\n",
        "start_time = time.time()\n",
        "quickSort(huge_list, 0, huge_len-1)\n",
        "total_time = time.time() - start_time\n",
        "print(f'Quick sort for list with {huge_len} elements: {total_time:.3f} seconds')"
      ],
      "execution_count": null,
      "outputs": [
        {
          "output_type": "stream",
          "text": [
            "Quick sort for list with 1000 elements: 0.002 seconds\n",
            "Quick sort for list with 5000 elements: 0.018 seconds\n"
          ],
          "name": "stdout"
        }
      ]
    },
    {
      "cell_type": "code",
      "metadata": {
        "colab": {
          "base_uri": "https://localhost:8080/"
        },
        "id": "sSFfMuH0_y4A",
        "outputId": "04d971a7-b025-4e28-d6f2-144994fb5727"
      },
      "source": [
        "#Radix\n",
        "big_len = len(big_list)\n",
        "huge_len = len(huge_list)\n",
        "\n",
        "start_time = time.time()\n",
        "radixSort(big_list)\n",
        "total_time = time.time() - start_time\n",
        "print(f'Radix sort for list with {big_len} elements: {total_time:.3f} seconds')\n",
        "\n",
        "\n",
        "start_time = time.time()\n",
        "radixSort(huge_list)\n",
        "total_time = time.time() - start_time\n",
        "print(f'Radix sort for list with {huge_len} elements: {total_time:.3f} seconds')"
      ],
      "execution_count": null,
      "outputs": [
        {
          "output_type": "stream",
          "text": [
            "Radix sort for list with 1000 elements: 0.491 seconds\n",
            "Radix sort for list with 5000 elements: 2.436 seconds\n"
          ],
          "name": "stdout"
        }
      ]
    },
    {
      "cell_type": "markdown",
      "metadata": {
        "id": "LtTAsA21ugXu"
      },
      "source": [
        "##Trees"
      ]
    },
    {
      "cell_type": "markdown",
      "metadata": {
        "id": "cKmxylWvvb_B"
      },
      "source": [
        "In general, trees are useful for organizing data that follows a hierarchy, e.g. files in a computer. They provide a moderate traversal/insertion time. For traversal/search, they are slower than an array but faster than a linked list. For insertion/deletion, they are slower than a linked list but faster than an array."
      ]
    },
    {
      "cell_type": "markdown",
      "metadata": {
        "id": "al5T0ZSpukme"
      },
      "source": [
        "###Binary Trees"
      ]
    },
    {
      "cell_type": "markdown",
      "metadata": {
        "id": "N43UsDF7urMk"
      },
      "source": [
        "A binary tree is one in which each node may have at most 2 children. \n",
        "\n",
        "**Properties:**\n",
        "- At level $l$ (root is level 0) the maximum number of nodes is $2^l$\n",
        "- The maimum number of nodes in the tree is $2^h - 1$\n",
        "  - Here the height $h$ is the maximum number of consecutive nodes from root to leaf. If there is only the root, $h = 1$\n",
        "- In a tree with $n$ nodes, the maximum possible height for the tree is $log_2(n+1)$\n"
      ]
    },
    {
      "cell_type": "code",
      "metadata": {
        "colab": {
          "base_uri": "https://localhost:8080/"
        },
        "id": "LNNpkS1SwQwz",
        "outputId": "668cea3d-3997-427a-fdc3-a9b8fbd81a94"
      },
      "source": [
        "class Node():\n",
        "  def __init__(self, val):\n",
        "    self.left = None\n",
        "    self.right = None\n",
        "    self.value = val\n",
        "\n",
        "  def insert(self, new_val):\n",
        "    if self.value is not None:\n",
        "      if self.left is None:\n",
        "        self.left = Node(new_val)\n",
        "      elif self.right is None:\n",
        "        self.right = Node(new_val)\n",
        "      else:\n",
        "        self.left.insert(new_val)\n",
        "    else:\n",
        "      self.value = new_val\n",
        "\n",
        "  def printTree(self):\n",
        "    if self.left:\n",
        "      self.left.printTree()\n",
        "    print(self.value)\n",
        "    if self.right:\n",
        "      self.right.printTree()\n",
        "\n",
        "\n",
        "def makeTree(num_leaves):\n",
        "  root = Node(0)\n",
        "  \n",
        "  for i in range(2, num_leaves+1):\n",
        "    root.insert(i)\n",
        "  \n",
        "  return root\n",
        "\n",
        "\n",
        "tree = makeTree(10)\n",
        "tree.printTree()"
      ],
      "execution_count": 2,
      "outputs": [
        {
          "output_type": "stream",
          "text": [
            "10\n",
            "8\n",
            "6\n",
            "9\n",
            "4\n",
            "7\n",
            "2\n",
            "5\n",
            "0\n",
            "3\n"
          ],
          "name": "stdout"
        }
      ]
    },
    {
      "cell_type": "markdown",
      "metadata": {
        "id": "aoJTxWQq43tl"
      },
      "source": [
        "###Binary Search Trees"
      ]
    },
    {
      "cell_type": "markdown",
      "metadata": {
        "id": "9xfIw5M948kY"
      },
      "source": [
        "Binary search trees (BST) are a sorted version of a binary tree. In a BST, a node's children are organized as follows: left child is less than current node, right child is greater than current node. Note that by design BSTs do not include duplicates.\n",
        "\n",
        "In a BST, if $h$ is the height of the tree and $n$ is the number of nodes, then time complexity for the following tasks is:\n",
        "- Search: O(h)\n",
        "- Insertion/deletion: O(h)\n",
        "\n",
        "If the tree is balanced, $h = O(log(n))$"
      ]
    },
    {
      "cell_type": "markdown",
      "metadata": {
        "id": "nAlMPz1R6iUP"
      },
      "source": [
        "**Advantages of BST:**\n",
        "\n",
        "1. Sorting keys is easy - just do an in-order traversal of the tree\n",
        "2. Finding the minimal and maximal element is easy\n",
        "3. BSTs are malleable - many variations exist and it is easy to customize a BST to any particular task"
      ]
    },
    {
      "cell_type": "code",
      "metadata": {
        "id": "hYnvUnGK51ZA"
      },
      "source": [
        "class Node():\n",
        "  def __init__(self, val):\n",
        "    self.left = None\n",
        "    self.right = None\n",
        "    self.value = val\n",
        "\n",
        "  def insert(self, new_val):\n",
        "    if self.value < new_val:\n",
        "      if self.right is None:\n",
        "        self.right = Node(new_val)\n",
        "      else:\n",
        "        self.right.insert(new_val)\n",
        "    elif self.value > new_val:\n",
        "      if self.left is None:\n",
        "        self.left = Node(new_val)\n",
        "      else:\n",
        "        self.left.insert(new_val)\n",
        "    else:\n",
        "      print(f'ERROR: Failed to insert {new_val} because {self.value} already exists.')\n",
        "\n",
        "  def inorderPrint(self):\n",
        "    if self.value is not None:\n",
        "      if self.left is not None:\n",
        "        self.left.inorderPrint()\n",
        "      print(self.value)\n",
        "      if self.right is not None:\n",
        "        self.right.inorderPrint()"
      ],
      "execution_count": 18,
      "outputs": []
    },
    {
      "cell_type": "markdown",
      "metadata": {
        "id": "AOrs8Cq6IMb7"
      },
      "source": [
        "**Searching a BST**\n",
        "\n",
        "BSTs are easy to search recursively since nodes are inserted in order. Below are three methods:\n",
        "\n",
        "- search(root, key) finds a node with a specific key value given the tree's root\n",
        "- getMin(root) finds the minimum value of a tree\n",
        "- getMax(root) finds the maximum value of a tree"
      ]
    },
    {
      "cell_type": "code",
      "metadata": {
        "id": "nAENVKtdItEx"
      },
      "source": [
        "def search(root, key):\n",
        "  if root is not None:\n",
        "    if root.value == key:\n",
        "      return root\n",
        "    elif root.value < key:\n",
        "      #search right subtree\n",
        "      return search(root.right, key)\n",
        "    else:\n",
        "      #search left subtree\n",
        "      return search(root.left, key)\n",
        "  else:\n",
        "    #not in tree\n",
        "    return None\n",
        "\n",
        "\n",
        "def getMin(root):\n",
        "  if root is None:\n",
        "    return None\n",
        "  current_node = root\n",
        "\n",
        "  while current_node.left is not None:\n",
        "    current_node = current_node.left\n",
        "\n",
        "  return current_node.value\n",
        "\n",
        "\n",
        "def getMax(root):\n",
        "  if root is None:\n",
        "    return None\n",
        "  current_node = root\n",
        "\n",
        "  while current_node.right is not None:\n",
        "    current_node = current_node.right\n",
        "\n",
        "  return current_node.value"
      ],
      "execution_count": 9,
      "outputs": []
    },
    {
      "cell_type": "markdown",
      "metadata": {
        "id": "GbKYoUUMI47K"
      },
      "source": [
        "**Deleting a node from a BST**\n",
        "\n",
        "We have three possibilities when deleting a node from a BST:\n",
        "\n",
        "1. The node to be deleted is a leaf - this is the easiest case\n",
        "2. The node to be deleted has one child\n",
        "3. The node to be deleted has two children\n",
        "\n",
        "In the worst case, deletion has a time complexity of O(n)"
      ]
    },
    {
      "cell_type": "code",
      "metadata": {
        "id": "UTNRhUzaJUKA"
      },
      "source": [
        "def getMinNode(root):\n",
        "  if root is None:\n",
        "    return None\n",
        "  current_node = root\n",
        "\n",
        "  while current_node.left is not None:\n",
        "    current_node = current_node.left\n",
        "\n",
        "  return current_node\n",
        "\n",
        "\n",
        "def deleteNode(root, key):\n",
        "  if root is None:\n",
        "    return root\n",
        "\n",
        "  if root.value > key:\n",
        "    #search left subtree\n",
        "    root.left = deleteNode(root.left, key)\n",
        "  elif root.value < key:\n",
        "    #search right subtree\n",
        "    root.right = deleteNode(root.right, key)\n",
        "\n",
        "  else:\n",
        "    #key has been found\n",
        "    if root.left is None:\n",
        "      temp_node = root.right\n",
        "      root = None\n",
        "      return temp_node\n",
        "    elif root.right is None:\n",
        "      temp_node = root.left\n",
        "      root = None\n",
        "      return temp_node\n",
        "    else:\n",
        "      temp_min = getMinNode(root.right)\n",
        "      root.value = temp_min.value\n",
        "      deleteNode(root.right, temp_min.value)\n",
        "\n",
        "  return root"
      ],
      "execution_count": 24,
      "outputs": []
    },
    {
      "cell_type": "markdown",
      "metadata": {
        "id": "oQYKQl1SK_pC"
      },
      "source": [
        "**Test it out!**\n",
        "\n",
        "Test out the methods below to see the functions in action:"
      ]
    },
    {
      "cell_type": "code",
      "metadata": {
        "colab": {
          "base_uri": "https://localhost:8080/"
        },
        "id": "C4_VCwDuK-sS",
        "outputId": "ab02ada1-5442-4ab6-8ab6-b881b8657859"
      },
      "source": [
        "print('Creating tree with a few nodes to start.')\n",
        "root_val = random.randint(1, 50)\n",
        "root = Node(root_val)\n",
        "for i in range(15):\n",
        "  root.insert(random.randint(1, 50))\n",
        "root.inorderPrint()\n",
        "\n",
        "min_val = getMin(root)\n",
        "max_val = getMax(root)\n",
        "\n",
        "print(f'Current min value: {min_val}')\n",
        "print(f'Current max value: {max_val}')\n",
        "\n",
        "print('\\nNow testing out an insertion! Let\\'s add the number 60 to this tree.')\n",
        "root.insert(60)\n",
        "root.inorderPrint()\n",
        "\n",
        "min_val = getMin(root)\n",
        "max_val = getMax(root)\n",
        "\n",
        "print(f'Current min value: {min_val}')\n",
        "print(f'Current max value: {max_val}')\n",
        "\n",
        "print('\\nGreat! Now let\\'s search for the value 24.')\n",
        "key = search(root, 24)\n",
        "if key is None:\n",
        "  print_val = 'not in tree.'\n",
        "else:\n",
        "  print_val = 'found!'\n",
        "print('Result is: ', print_val)\n",
        "\n",
        "print(f'\\nLet\\'s try removing the root. Currently its value is {root_val}.')\n",
        "new_root = deleteNode(root, root_val)\n",
        "new_root.inorderPrint()\n",
        "\n",
        "min_val = getMin(root)\n",
        "max_val = getMax(root)\n",
        "\n",
        "print(f'Current min value: {min_val}')\n",
        "print(f'Current max value: {max_val}')"
      ],
      "execution_count": 29,
      "outputs": [
        {
          "output_type": "stream",
          "text": [
            "Creating tree with a few nodes to start.\n",
            "ERROR: Failed to insert 27 because 27 already exists.\n",
            "1\n",
            "3\n",
            "10\n",
            "12\n",
            "13\n",
            "16\n",
            "23\n",
            "27\n",
            "28\n",
            "30\n",
            "31\n",
            "33\n",
            "41\n",
            "45\n",
            "50\n",
            "Current min value: 1\n",
            "Current max value: 50\n",
            "\n",
            "Now testing out an insertion! Let's add the number 60 to this tree.\n",
            "1\n",
            "3\n",
            "10\n",
            "12\n",
            "13\n",
            "16\n",
            "23\n",
            "27\n",
            "28\n",
            "30\n",
            "31\n",
            "33\n",
            "41\n",
            "45\n",
            "50\n",
            "60\n",
            "Current min value: 1\n",
            "Current max value: 60\n",
            "\n",
            "Great! Now let's search for the value 24.\n",
            "Result is:  not in tree.\n",
            "\n",
            "Let's try removing the root. Currently its value is 16.\n",
            "1\n",
            "3\n",
            "10\n",
            "12\n",
            "13\n",
            "23\n",
            "27\n",
            "28\n",
            "30\n",
            "31\n",
            "33\n",
            "41\n",
            "45\n",
            "50\n",
            "60\n",
            "Current min value: 1\n",
            "Current max value: 60\n"
          ],
          "name": "stdout"
        }
      ]
    }
  ]
}