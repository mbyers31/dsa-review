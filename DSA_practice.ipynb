{
  "nbformat": 4,
  "nbformat_minor": 0,
  "metadata": {
    "colab": {
      "name": "DSA_practice.ipynb",
      "provenance": []
    },
    "kernelspec": {
      "name": "python3",
      "display_name": "Python 3"
    }
  },
  "cells": [
    {
      "cell_type": "markdown",
      "metadata": {
        "id": "6CBWlTT2pq_z"
      },
      "source": [
        "#Time to make Python my bitch"
      ]
    },
    {
      "cell_type": "markdown",
      "metadata": {
        "id": "mqB1hsuupwM_"
      },
      "source": [
        "##Sorting"
      ]
    },
    {
      "cell_type": "code",
      "metadata": {
        "id": "wDFAVFVxqUic"
      },
      "source": [
        "import random"
      ],
      "execution_count": 1,
      "outputs": []
    },
    {
      "cell_type": "code",
      "metadata": {
        "id": "uAVdzAMdqp9Z"
      },
      "source": [
        "small_list = [random.randrange(1, 100, 1) for i in range(20)]"
      ],
      "execution_count": 12,
      "outputs": []
    },
    {
      "cell_type": "code",
      "metadata": {
        "id": "KEAU1bOQqrNF"
      },
      "source": [
        "med_list = [random.randrange(1, 100, 1) for i in range(200)]"
      ],
      "execution_count": 13,
      "outputs": []
    },
    {
      "cell_type": "code",
      "metadata": {
        "id": "8LMwWq0mqvEp"
      },
      "source": [
        "big_list = [random.randrange(1, 100, 1) for i in range(1000)]"
      ],
      "execution_count": null,
      "outputs": []
    },
    {
      "cell_type": "code",
      "metadata": {
        "id": "i7eJwW-IqyAH"
      },
      "source": [
        "huge_list = [random.randrange(1, 100, 1) for i in range(5000)]"
      ],
      "execution_count": null,
      "outputs": []
    },
    {
      "cell_type": "markdown",
      "metadata": {
        "id": "sbfUjRRzqE5E"
      },
      "source": [
        "###The Basics: bubble sort"
      ]
    },
    {
      "cell_type": "markdown",
      "metadata": {
        "id": "rrzrHuKXswka"
      },
      "source": [
        "Bubble sort has a worst-case complexity of O(n**2) and a best case complexity of O(n) with early stopping. "
      ]
    },
    {
      "cell_type": "code",
      "metadata": {
        "colab": {
          "base_uri": "https://localhost:8080/"
        },
        "id": "VbBM_0LJpnLK",
        "outputId": "d683362b-0e9a-46ca-e991-f63f76ee5814"
      },
      "source": [
        "print('Small list before sort:')\n",
        "print(small_list)\n",
        "\n",
        "nothing_changed = True\n",
        "\n",
        "for i in range(len(small_list)):\n",
        "  for j in range(len(small_list)-i-1):\n",
        "    if small_list[j] > small_list[j+1]:\n",
        "      nothing_changed = False\n",
        "      small_list[j], small_list[j+1] = small_list[j+1], small_list[j]\n",
        "  if nothing_changed:\n",
        "    break\n",
        "\n",
        "print('\\nSmall list after sort:')\n",
        "print(small_list)"
      ],
      "execution_count": 5,
      "outputs": [
        {
          "output_type": "stream",
          "text": [
            "Small list before sort:\n",
            "[58, 93, 65, 89, 71, 63, 87, 51, 95, 47, 46, 31, 23, 32, 26, 60, 80, 31, 33, 6]\n",
            "\n",
            "Small list after sort:\n",
            "[6, 23, 26, 31, 31, 32, 33, 46, 47, 51, 58, 60, 63, 65, 71, 80, 87, 89, 93, 95]\n"
          ],
          "name": "stdout"
        }
      ]
    },
    {
      "cell_type": "markdown",
      "metadata": {
        "id": "v4MIrMNXtCPV"
      },
      "source": [
        "###Merge sort"
      ]
    },
    {
      "cell_type": "markdown",
      "metadata": {
        "id": "USD6xf2FtYNG"
      },
      "source": [
        "Merge sort works by recursively dividing the array in half, and then merges the halves back together. This algorithm has a best AND worst case time complexity of O(nlogn).\n",
        "\n",
        "It is most useful for sorting linked lists since it accesses the elements sequentially and because insertion for a linked list takes O(1)"
      ]
    },
    {
      "cell_type": "code",
      "metadata": {
        "colab": {
          "base_uri": "https://localhost:8080/"
        },
        "id": "3YY_GSMBtEXt",
        "outputId": "3c034890-7660-44f5-8e68-566432e32267"
      },
      "source": [
        "def mergeSort(arr):\n",
        "  if len(arr)>1:\n",
        "    mid = len(arr)//2 #// is floor division\n",
        "    left = arr[:mid]\n",
        "    right = arr[mid:]\n",
        "\n",
        "    mergeSort(left)\n",
        "    mergeSort(right)\n",
        "\n",
        "    i = j = k = 0\n",
        "\n",
        "    #merge\n",
        "    while i < len(left) and j < len(right):\n",
        "      if left[i] < right[j]:\n",
        "        arr[k] = left[i]\n",
        "        i += 1\n",
        "      else:\n",
        "        arr[k] = right[j]\n",
        "        j += 1\n",
        "      k += 1\n",
        "   \n",
        "    #check for leftovers\n",
        "    while i < len(left):\n",
        "      arr[k] = left[i]\n",
        "      i += 1\n",
        "      k += 1\n",
        "    \n",
        "    while j < len(right):\n",
        "      arr[k] = right[j]\n",
        "      j += 1\n",
        "      k += 1\n",
        "\n",
        "\n",
        "print('Small list before sort:', small_list)\n",
        "mergeSort(small_list)\n",
        "print('Small list after sort:', small_list)\n",
        "\n",
        "print('\\nMedium list before sort:', med_list)\n",
        "mergeSort(med_list)\n",
        "print('Small list after sort:', med_list)"
      ],
      "execution_count": 11,
      "outputs": [
        {
          "output_type": "stream",
          "text": [
            "Small list before sort: [83, 40, 42, 67, 32, 4, 48, 22, 57, 81, 94, 26, 82, 6, 78, 4, 14, 98, 21, 55]\n",
            "Small list after sort: [4, 4, 6, 14, 21, 22, 26, 32, 40, 42, 48, 55, 57, 67, 78, 81, 82, 83, 94, 98]\n",
            "\n",
            "Medium list before sort: [73, 18, 34, 80, 1, 88, 52, 72, 27, 2, 93, 54, 80, 74, 36, 87, 29, 91, 98, 40, 85, 75, 22, 40, 29, 74, 32, 53, 28, 96, 23, 6, 10, 42, 68, 74, 59, 1, 97, 45, 31, 79, 19, 28, 65, 46, 83, 4, 17, 41, 42, 83, 44, 79, 39, 63, 60, 16, 52, 41, 15, 41, 92, 86, 86, 97, 99, 75, 92, 1, 89, 42, 28, 42, 67, 5, 48, 35, 61, 81, 75, 56, 33, 7, 99, 42, 87, 85, 95, 33, 89, 58, 56, 3, 3, 76, 55, 30, 39, 46, 26, 91, 79, 87, 81, 64, 98, 32, 91, 54, 24, 16, 52, 37, 25, 77, 34, 1, 22, 60, 15, 70, 80, 43, 34, 64, 76, 98, 59, 59, 13, 27, 89, 52, 87, 22, 55, 79, 34, 78, 92, 32, 63, 20, 93, 84, 40, 62, 87, 70, 26, 34, 43, 19, 64, 58, 57, 46, 98, 53, 57, 51, 72, 31, 14, 79, 3, 92, 52, 24, 48, 80, 51, 6, 56, 27, 23, 58, 97, 91, 49, 64, 73, 29, 88, 59, 97, 54, 83, 68, 31, 20, 27, 12, 2, 22, 88, 20, 31, 1]\n",
            "Small list after sort: [1, 1, 1, 1, 1, 2, 2, 3, 3, 3, 4, 5, 6, 6, 7, 10, 12, 13, 14, 15, 15, 16, 16, 17, 18, 19, 19, 20, 20, 20, 22, 22, 22, 22, 23, 23, 24, 24, 25, 26, 26, 27, 27, 27, 27, 28, 28, 28, 29, 29, 29, 30, 31, 31, 31, 31, 32, 32, 32, 33, 33, 34, 34, 34, 34, 34, 35, 36, 37, 39, 39, 40, 40, 40, 41, 41, 41, 42, 42, 42, 42, 42, 43, 43, 44, 45, 46, 46, 46, 48, 48, 49, 51, 51, 52, 52, 52, 52, 52, 53, 53, 54, 54, 54, 55, 55, 56, 56, 56, 57, 57, 58, 58, 58, 59, 59, 59, 59, 60, 60, 61, 62, 63, 63, 64, 64, 64, 64, 65, 67, 68, 68, 70, 70, 72, 72, 73, 73, 74, 74, 74, 75, 75, 75, 76, 76, 77, 78, 79, 79, 79, 79, 79, 80, 80, 80, 80, 81, 81, 83, 83, 83, 84, 85, 85, 86, 86, 87, 87, 87, 87, 87, 88, 88, 88, 89, 89, 89, 91, 91, 91, 91, 92, 92, 92, 92, 93, 93, 95, 96, 97, 97, 97, 97, 98, 98, 98, 98, 99, 99]\n"
          ],
          "name": "stdout"
        }
      ]
    },
    {
      "cell_type": "markdown",
      "metadata": {
        "id": "wgTqMwftyFnY"
      },
      "source": [
        "###Quick Sort"
      ]
    },
    {
      "cell_type": "markdown",
      "metadata": {
        "id": "qSr2LMQfyLOY"
      },
      "source": [
        "Quick sort is also a divide and conquer algorithm. This one focuses on selecting an element of the array to be the \"pivot.\" In the best case QuickSort achieves a time complexity of O(nlogn) and in the (rare) worst case its complexity is O(n**2). It is unstable, unlike MergeSort.\n",
        "\n",
        "Quicksort is useful when storage is limited. In contrast to MergeSort, QuickSort does not require extra memory. It's known as an \"in-place\" sort. This algorithm takes precedence over MergeSort when used on arrays."
      ]
    },
    {
      "cell_type": "code",
      "metadata": {
        "colab": {
          "base_uri": "https://localhost:8080/"
        },
        "id": "Hc2PWEsxycgi",
        "outputId": "82e56991-d510-4405-9da4-31fdd7959b64"
      },
      "source": [
        "def partition(arr, low, high):\n",
        "  i = low - 1\n",
        "  pivot = arr[high] #in this implementation our pivot is the last element\n",
        "\n",
        "  for j in range(low, high):\n",
        "    if arr[j] < pivot:\n",
        "      i += 1\n",
        "      arr[i], arr[j] = arr[j], arr[i]\n",
        "  \n",
        "  arr[i+1], arr[high] = arr[high], arr[i+1]\n",
        "\n",
        "  return i+1\n",
        "\n",
        "\n",
        "def quickSort(arr, low, high):\n",
        "  if low < high:\n",
        "    partition_idx = partition(arr, low, high)\n",
        "\n",
        "    quickSort(arr, low, partition_idx-1)\n",
        "    quickSort(arr, partition_idx+1, high)\n",
        "\n",
        "\n",
        "print('Small list before sort: ', small_list)\n",
        "quickSort(small_list, 0, len(small_list)-1)\n",
        "print('Small list after sort: ', small_list)\n",
        "\n",
        "print('\\nMedium list before sort: ', med_list)\n",
        "quickSort(med_list, 0, len(med_list)-1)\n",
        "print('Medium list after sort: ', med_list)"
      ],
      "execution_count": 14,
      "outputs": [
        {
          "output_type": "stream",
          "text": [
            "Small list before sort:  [46, 58, 81, 93, 94, 91, 29, 23, 24, 42, 94, 23, 75, 59, 87, 67, 90, 88, 76, 9]\n",
            "Small list after sort:  [9, 23, 23, 24, 29, 42, 46, 58, 59, 67, 75, 76, 81, 87, 88, 90, 91, 93, 94, 94]\n",
            "Medium list before sort:  [28, 62, 44, 68, 85, 19, 83, 98, 69, 41, 30, 84, 94, 70, 73, 39, 49, 28, 71, 67, 7, 70, 60, 92, 58, 78, 55, 27, 7, 97, 57, 74, 24, 9, 43, 38, 42, 36, 11, 89, 27, 72, 10, 98, 31, 78, 72, 4, 63, 23, 23, 64, 97, 31, 43, 72, 65, 72, 81, 77, 59, 58, 57, 58, 6, 26, 4, 73, 65, 57, 78, 76, 91, 12, 39, 27, 28, 79, 12, 63, 35, 98, 66, 39, 67, 40, 84, 76, 56, 73, 43, 11, 91, 2, 77, 6, 31, 39, 91, 11, 8, 74, 93, 94, 47, 84, 21, 11, 41, 53, 15, 34, 65, 49, 12, 48, 80, 4, 61, 69, 81, 72, 13, 1, 94, 40, 73, 95, 76, 7, 5, 87, 15, 87, 24, 50, 80, 60, 92, 1, 59, 56, 59, 11, 31, 78, 67, 46, 38, 83, 41, 37, 39, 43, 60, 59, 81, 49, 94, 73, 44, 5, 16, 65, 15, 42, 34, 41, 75, 63, 80, 18, 33, 13, 4, 38, 92, 69, 20, 53, 41, 53, 39, 6, 93, 10, 55, 37, 65, 81, 95, 28, 67, 86, 65, 76, 23, 2, 19, 64]\n",
            "Medium list after sort:  [1, 1, 2, 2, 4, 4, 4, 4, 5, 5, 6, 6, 6, 7, 7, 7, 8, 9, 10, 10, 11, 11, 11, 11, 11, 12, 12, 12, 13, 13, 15, 15, 15, 16, 18, 19, 19, 20, 21, 23, 23, 23, 24, 24, 26, 27, 27, 27, 28, 28, 28, 28, 30, 31, 31, 31, 31, 33, 34, 34, 35, 36, 37, 37, 38, 38, 38, 39, 39, 39, 39, 39, 39, 40, 40, 41, 41, 41, 41, 41, 42, 42, 43, 43, 43, 43, 44, 44, 46, 47, 48, 49, 49, 49, 50, 53, 53, 53, 55, 55, 56, 56, 57, 57, 57, 58, 58, 58, 59, 59, 59, 59, 60, 60, 60, 61, 62, 63, 63, 63, 64, 64, 65, 65, 65, 65, 65, 65, 66, 67, 67, 67, 67, 68, 69, 69, 69, 70, 70, 71, 72, 72, 72, 72, 72, 73, 73, 73, 73, 73, 74, 74, 75, 76, 76, 76, 76, 77, 77, 78, 78, 78, 78, 79, 80, 80, 80, 81, 81, 81, 81, 83, 83, 84, 84, 84, 85, 86, 87, 87, 89, 91, 91, 91, 92, 92, 92, 93, 93, 94, 94, 94, 94, 95, 95, 97, 97, 98, 98, 98]\n"
          ],
          "name": "stdout"
        }
      ]
    },
    {
      "cell_type": "markdown",
      "metadata": {
        "id": "XVALJk2G3W9_"
      },
      "source": [
        "###Radix Sort"
      ]
    },
    {
      "cell_type": "markdown",
      "metadata": {
        "id": "5MkU0f2A4ymH"
      },
      "source": [
        "Radix sort is not a comparison based algorithm, unlike mergeSort and quickSort. Radix works by comparing the digits of each entry in an array from least to most significant. If n is (also) the base of your digits, then Radix takes O(n). If n =/= the base of your digits, then compute time is O(nlogn)"
      ]
    },
    {
      "cell_type": "code",
      "metadata": {
        "id": "iZ9--o7Q5Qxk"
      },
      "source": [
        ""
      ],
      "execution_count": null,
      "outputs": []
    }
  ]
}